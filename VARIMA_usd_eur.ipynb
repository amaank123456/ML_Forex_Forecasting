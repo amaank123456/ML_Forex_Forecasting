{
  "cells": [
    {
      "cell_type": "code",
      "execution_count": null,
      "metadata": {},
      "outputs": [],
      "source": [
        "import sys\n",
        "# sys.path.append('/content/ML_Forex_Forecasting')\n",
        "import warnings\n",
        "warnings.filterwarnings(\"ignore\")\n",
        "import pandas as pd\n",
        "# from generate_features import generate_features\n",
        "# from maximum_profit_path import find_maximum_profit_path\n",
        "import pandas as pd\n",
        "from sklearn.ensemble import RandomForestRegressor\n",
        "from sklearn.model_selection import GridSearchCV\n",
        "from sklearn.metrics import mean_squared_error\n",
        "import numpy as np\n",
        "from statsmodels.tsa.stattools import adfuller"
      ]
    },
    {
      "cell_type": "markdown",
      "metadata": {},
      "source": [
        "## Dickey-Fuller Test"
      ]
    },
    {
      "cell_type": "code",
      "execution_count": null,
      "metadata": {},
      "outputs": [],
      "source": [
        "def dickey_fuller_test(df,var):\n",
        "    result = adfuller(df[var].values)\n",
        "    #Extracting the values from the results:\n",
        "    print(f\"Dickey-Fuller test for feature: {var}\")\n",
        "\n",
        "    print('Test Statistic: %f' % result[0])\n",
        "\n",
        "    print('p-value: %f' % result[1])\n",
        "\n",
        "    print('Critical Values:')\n",
        "\n",
        "    for key, value in result[4].items():\n",
        "        print('\\t%s: %.3f' % (key, value))\n",
        "    if result[0] < result[4][\"5%\"]:\n",
        "        print (\"Reject H0 - Time Series is Stationary\")\n",
        "    else:\n",
        "        print (\"Failed to Reject H0 - Time Series is Non-Stationary\")"
      ]
    },
    {
      "cell_type": "code",
      "execution_count": 2,
      "metadata": {
        "colab": {
          "base_uri": "https://localhost:8080/",
          "height": 693
        },
        "id": "a8HgqGe9s9h6",
        "outputId": "ffc45b6e-4b98-4840-a66e-c3517f54d1fc"
      },
      "outputs": [
        {
          "name": "stdout",
          "output_type": "stream",
          "text": [
            "USD/EUR: (247, 5)\n"
          ]
        },
        {
          "data": {
            "text/html": [
              "<div>\n",
              "<style scoped>\n",
              "    .dataframe tbody tr th:only-of-type {\n",
              "        vertical-align: middle;\n",
              "    }\n",
              "\n",
              "    .dataframe tbody tr th {\n",
              "        vertical-align: top;\n",
              "    }\n",
              "\n",
              "    .dataframe thead th {\n",
              "        text-align: right;\n",
              "    }\n",
              "</style>\n",
              "<table border=\"1\" class=\"dataframe\">\n",
              "  <thead>\n",
              "    <tr style=\"text-align: right;\">\n",
              "      <th></th>\n",
              "      <th>Date</th>\n",
              "      <th>Close</th>\n",
              "      <th>Gold_Price</th>\n",
              "      <th>S50</th>\n",
              "      <th>GSPC</th>\n",
              "    </tr>\n",
              "  </thead>\n",
              "  <tbody>\n",
              "    <tr>\n",
              "      <th>0</th>\n",
              "      <td>2022-11-18</td>\n",
              "      <td>0.96509</td>\n",
              "      <td>1751.900024</td>\n",
              "      <td>3924.840088</td>\n",
              "      <td>3965.340088</td>\n",
              "    </tr>\n",
              "    <tr>\n",
              "      <th>1</th>\n",
              "      <td>2022-11-21</td>\n",
              "      <td>0.96797</td>\n",
              "      <td>1737.400024</td>\n",
              "      <td>3909.280029</td>\n",
              "      <td>3949.939941</td>\n",
              "    </tr>\n",
              "    <tr>\n",
              "      <th>2</th>\n",
              "      <td>2022-11-22</td>\n",
              "      <td>0.97602</td>\n",
              "      <td>1738.300049</td>\n",
              "      <td>3929.899902</td>\n",
              "      <td>4003.580078</td>\n",
              "    </tr>\n",
              "    <tr>\n",
              "      <th>3</th>\n",
              "      <td>2022-11-23</td>\n",
              "      <td>0.96983</td>\n",
              "      <td>1744.900024</td>\n",
              "      <td>3946.439941</td>\n",
              "      <td>4027.260010</td>\n",
              "    </tr>\n",
              "    <tr>\n",
              "      <th>4</th>\n",
              "      <td>2022-11-25</td>\n",
              "      <td>0.96079</td>\n",
              "      <td>1753.300049</td>\n",
              "      <td>3962.409912</td>\n",
              "      <td>4026.120117</td>\n",
              "    </tr>\n",
              "    <tr>\n",
              "      <th>5</th>\n",
              "      <td>2022-11-28</td>\n",
              "      <td>0.96455</td>\n",
              "      <td>1740.099976</td>\n",
              "      <td>3935.510010</td>\n",
              "      <td>3963.939941</td>\n",
              "    </tr>\n",
              "    <tr>\n",
              "      <th>6</th>\n",
              "      <td>2022-11-29</td>\n",
              "      <td>0.96660</td>\n",
              "      <td>1748.400024</td>\n",
              "      <td>3934.439941</td>\n",
              "      <td>3957.629883</td>\n",
              "    </tr>\n",
              "    <tr>\n",
              "      <th>7</th>\n",
              "      <td>2022-11-30</td>\n",
              "      <td>0.96857</td>\n",
              "      <td>1746.000000</td>\n",
              "      <td>3964.719971</td>\n",
              "      <td>4080.110107</td>\n",
              "    </tr>\n",
              "    <tr>\n",
              "      <th>8</th>\n",
              "      <td>2022-12-01</td>\n",
              "      <td>0.95920</td>\n",
              "      <td>1801.099976</td>\n",
              "      <td>3984.500000</td>\n",
              "      <td>4076.570068</td>\n",
              "    </tr>\n",
              "    <tr>\n",
              "      <th>9</th>\n",
              "      <td>2022-12-02</td>\n",
              "      <td>0.94981</td>\n",
              "      <td>1795.900024</td>\n",
              "      <td>3977.899902</td>\n",
              "      <td>4071.699951</td>\n",
              "    </tr>\n",
              "    <tr>\n",
              "      <th>10</th>\n",
              "      <td>2022-12-05</td>\n",
              "      <td>0.94839</td>\n",
              "      <td>1767.400024</td>\n",
              "      <td>3956.530029</td>\n",
              "      <td>3998.840088</td>\n",
              "    </tr>\n",
              "    <tr>\n",
              "      <th>11</th>\n",
              "      <td>2022-12-06</td>\n",
              "      <td>0.95266</td>\n",
              "      <td>1769.300049</td>\n",
              "      <td>3939.189941</td>\n",
              "      <td>3941.260010</td>\n",
              "    </tr>\n",
              "    <tr>\n",
              "      <th>12</th>\n",
              "      <td>2022-12-07</td>\n",
              "      <td>0.95520</td>\n",
              "      <td>1785.500000</td>\n",
              "      <td>3920.899902</td>\n",
              "      <td>3933.919922</td>\n",
              "    </tr>\n",
              "    <tr>\n",
              "      <th>13</th>\n",
              "      <td>2022-12-08</td>\n",
              "      <td>0.95118</td>\n",
              "      <td>1788.699951</td>\n",
              "      <td>3921.270020</td>\n",
              "      <td>3963.510010</td>\n",
              "    </tr>\n",
              "    <tr>\n",
              "      <th>14</th>\n",
              "      <td>2022-12-09</td>\n",
              "      <td>0.94700</td>\n",
              "      <td>1798.099976</td>\n",
              "      <td>3942.620117</td>\n",
              "      <td>3934.379883</td>\n",
              "    </tr>\n",
              "    <tr>\n",
              "      <th>15</th>\n",
              "      <td>2022-12-12</td>\n",
              "      <td>0.95037</td>\n",
              "      <td>1780.500000</td>\n",
              "      <td>3921.820068</td>\n",
              "      <td>3990.560059</td>\n",
              "    </tr>\n",
              "    <tr>\n",
              "      <th>16</th>\n",
              "      <td>2022-12-13</td>\n",
              "      <td>0.94861</td>\n",
              "      <td>1813.900024</td>\n",
              "      <td>3986.830078</td>\n",
              "      <td>4019.649902</td>\n",
              "    </tr>\n",
              "    <tr>\n",
              "      <th>17</th>\n",
              "      <td>2022-12-14</td>\n",
              "      <td>0.94103</td>\n",
              "      <td>1807.500000</td>\n",
              "      <td>3975.260010</td>\n",
              "      <td>3995.320068</td>\n",
              "    </tr>\n",
              "    <tr>\n",
              "      <th>18</th>\n",
              "      <td>2022-12-15</td>\n",
              "      <td>0.93665</td>\n",
              "      <td>1777.199951</td>\n",
              "      <td>3835.699951</td>\n",
              "      <td>3895.750000</td>\n",
              "    </tr>\n",
              "    <tr>\n",
              "      <th>19</th>\n",
              "      <td>2022-12-16</td>\n",
              "      <td>0.93980</td>\n",
              "      <td>1790.000000</td>\n",
              "      <td>3804.020020</td>\n",
              "      <td>3852.360107</td>\n",
              "    </tr>\n",
              "  </tbody>\n",
              "</table>\n",
              "</div>"
            ],
            "text/plain": [
              "         Date    Close   Gold_Price          S50         GSPC\n",
              "0  2022-11-18  0.96509  1751.900024  3924.840088  3965.340088\n",
              "1  2022-11-21  0.96797  1737.400024  3909.280029  3949.939941\n",
              "2  2022-11-22  0.97602  1738.300049  3929.899902  4003.580078\n",
              "3  2022-11-23  0.96983  1744.900024  3946.439941  4027.260010\n",
              "4  2022-11-25  0.96079  1753.300049  3962.409912  4026.120117\n",
              "5  2022-11-28  0.96455  1740.099976  3935.510010  3963.939941\n",
              "6  2022-11-29  0.96660  1748.400024  3934.439941  3957.629883\n",
              "7  2022-11-30  0.96857  1746.000000  3964.719971  4080.110107\n",
              "8  2022-12-01  0.95920  1801.099976  3984.500000  4076.570068\n",
              "9  2022-12-02  0.94981  1795.900024  3977.899902  4071.699951\n",
              "10 2022-12-05  0.94839  1767.400024  3956.530029  3998.840088\n",
              "11 2022-12-06  0.95266  1769.300049  3939.189941  3941.260010\n",
              "12 2022-12-07  0.95520  1785.500000  3920.899902  3933.919922\n",
              "13 2022-12-08  0.95118  1788.699951  3921.270020  3963.510010\n",
              "14 2022-12-09  0.94700  1798.099976  3942.620117  3934.379883\n",
              "15 2022-12-12  0.95037  1780.500000  3921.820068  3990.560059\n",
              "16 2022-12-13  0.94861  1813.900024  3986.830078  4019.649902\n",
              "17 2022-12-14  0.94103  1807.500000  3975.260010  3995.320068\n",
              "18 2022-12-15  0.93665  1777.199951  3835.699951  3895.750000\n",
              "19 2022-12-16  0.93980  1790.000000  3804.020020  3852.360107"
            ]
          },
          "metadata": {},
          "output_type": "display_data"
        }
      ],
      "source": [
        "# usd_eur = pd.read_csv(\"/content/ML_Forex_Forecasting/USDEUR=X.csv\", parse_dates=['Date'])\n",
        "# usd_gbp = pd.read_csv(\"/content/ML_Forex_Forecasting/USDGBP=X.csv\", parse_dates=['Date'])\n",
        "# usd_chf = pd.read_csv(\"/content/ML_Forex_Forecasting/USDCHF=X.csv\", parse_dates=['Date'])\n",
        "\n",
        "usd_eur = pd.read_csv(\"./USDEUR=X (3).csv\", parse_dates=['Date'])\n",
        "usd_eur = usd_eur[['Date', 'Close']]\n",
        "\n",
        "gold_prices = pd.read_csv(\"./GC=F.csv\", parse_dates=['Date'])\n",
        "gold_prices = gold_prices[['Date', 'Close']]\n",
        "gold_prices.rename(columns = {'Close':'Gold_Price'}, inplace = True)\n",
        "\n",
        "GSPC = pd.read_csv(\"./GSPC.csv\", parse_dates=['Date'])\n",
        "GSPC = GSPC[['Date', 'Close']]\n",
        "GSPC.rename(columns = {'Close':'GSPC'}, inplace = True)\n",
        "\n",
        "S50 = pd.read_csv(\"./EUROSTOXX50E.csv\", parse_dates=['Date'])\n",
        "S50 = S50[['Date', 'Close']]\n",
        "S50.rename(columns = {'Close':'S50'}, inplace = True)\n",
        "\n",
        "# FTSE = pd.read_csv(\"./FTSE.csv\", parse_dates=['Date'])\n",
        "# FTSE = FTSE[['Date', 'Close']]\n",
        "# FTSE.rename(columns = {'Close':'FTSE'}, inplace = True)\n",
        "\n",
        "usd_eur = usd_eur.merge(gold_prices, on='Date')\n",
        "usd_eur = usd_eur.merge(S50, on='Date')\n",
        "usd_eur = usd_eur.merge(GSPC, on='Date')\n",
        "\n",
        "# eur_gbp = eur_gbp.iloc[::-1]\n",
        "\n",
        "# eur_chf = pd.read_csv(\"/content/ML_Forex_Forecasting/EURCHF=X.csv\", parse_dates=['Date'])\n",
        "# gbp_chf = pd.read_csv(\"/content/ML_Forex_Forecasting/GBPCHF=X.csv\", parse_dates=['Date'])\n",
        "# print(f\"USD/EUR: {usd_eur.shape}\")\n",
        "# display(usd_eur.head())\n",
        "# print(f\"USD/GBP: {usd_gbp.shape}\")\n",
        "# display(usd_gbp.head())\n",
        "# print(f\"USD/CHF: {usd_chf.shape}\")\n",
        "# display(usd_chf.head())\n",
        "print(f\"USD/EUR: {usd_eur.shape}\")\n",
        "display(usd_eur.head(20))\n",
        "\n",
        "\n",
        "# print(f\"EUR/CHF: {eur_chf.shape}\")\n",
        "# display(eur_chf.head())\n",
        "# print(f\"GBP/CHF: {gbp_chf.shape}\")\n",
        "# display(gbp_chf.head())"
      ]
    },
    {
      "cell_type": "code",
      "execution_count": 97,
      "metadata": {
        "colab": {
          "base_uri": "https://localhost:8080/",
          "height": 876
        },
        "id": "0s3UpWejwOKb",
        "outputId": "b587ecb9-df1b-4896-e832-69cd661be876"
      },
      "outputs": [
        {
          "name": "stderr",
          "output_type": "stream",
          "text": [
            "/Users/amaankazi/miniconda3/envs/mlsp/lib/python3.11/site-packages/statsmodels/tsa/statespace/varmax.py:161: EstimationWarning: Estimation of VARMA(p,q) models is not generically robust, due especially to identification issues.\n",
            "  warn('Estimation of VARMA(p,q) models is not generically robust,'\n",
            "/Users/amaankazi/miniconda3/envs/mlsp/lib/python3.11/site-packages/statsmodels/tsa/statespace/varmax.py:161: EstimationWarning: Estimation of VARMA(p,q) models is not generically robust, due especially to identification issues.\n",
            "  warn('Estimation of VARMA(p,q) models is not generically robust,'\n",
            "/Users/amaankazi/miniconda3/envs/mlsp/lib/python3.11/site-packages/statsmodels/base/model.py:607: ConvergenceWarning: Maximum Likelihood optimization failed to converge. Check mle_retvals\n",
            "  warnings.warn(\"Maximum Likelihood optimization failed to \"\n",
            "/Users/amaankazi/miniconda3/envs/mlsp/lib/python3.11/site-packages/statsmodels/tsa/statespace/varmax.py:161: EstimationWarning: Estimation of VARMA(p,q) models is not generically robust, due especially to identification issues.\n",
            "  warn('Estimation of VARMA(p,q) models is not generically robust,'\n",
            "/Users/amaankazi/miniconda3/envs/mlsp/lib/python3.11/site-packages/statsmodels/tsa/statespace/varmax.py:161: EstimationWarning: Estimation of VARMA(p,q) models is not generically robust, due especially to identification issues.\n",
            "  warn('Estimation of VARMA(p,q) models is not generically robust,'\n",
            "/Users/amaankazi/miniconda3/envs/mlsp/lib/python3.11/site-packages/statsmodels/tsa/statespace/varmax.py:161: EstimationWarning: Estimation of VARMA(p,q) models is not generically robust, due especially to identification issues.\n",
            "  warn('Estimation of VARMA(p,q) models is not generically robust,'\n",
            "/Users/amaankazi/miniconda3/envs/mlsp/lib/python3.11/site-packages/statsmodels/tsa/statespace/varmax.py:161: EstimationWarning: Estimation of VARMA(p,q) models is not generically robust, due especially to identification issues.\n",
            "  warn('Estimation of VARMA(p,q) models is not generically robust,'\n",
            "/Users/amaankazi/miniconda3/envs/mlsp/lib/python3.11/site-packages/statsmodels/base/model.py:607: ConvergenceWarning: Maximum Likelihood optimization failed to converge. Check mle_retvals\n",
            "  warnings.warn(\"Maximum Likelihood optimization failed to \"\n",
            "/Users/amaankazi/miniconda3/envs/mlsp/lib/python3.11/site-packages/statsmodels/tsa/statespace/varmax.py:161: EstimationWarning: Estimation of VARMA(p,q) models is not generically robust, due especially to identification issues.\n",
            "  warn('Estimation of VARMA(p,q) models is not generically robust,'\n",
            "/Users/amaankazi/miniconda3/envs/mlsp/lib/python3.11/site-packages/statsmodels/tsa/statespace/varmax.py:161: EstimationWarning: Estimation of VARMA(p,q) models is not generically robust, due especially to identification issues.\n",
            "  warn('Estimation of VARMA(p,q) models is not generically robust,'\n",
            "/Users/amaankazi/miniconda3/envs/mlsp/lib/python3.11/site-packages/statsmodels/tsa/statespace/varmax.py:161: EstimationWarning: Estimation of VARMA(p,q) models is not generically robust, due especially to identification issues.\n",
            "  warn('Estimation of VARMA(p,q) models is not generically robust,'\n",
            "/Users/amaankazi/miniconda3/envs/mlsp/lib/python3.11/site-packages/statsmodels/tsa/statespace/varmax.py:161: EstimationWarning: Estimation of VARMA(p,q) models is not generically robust, due especially to identification issues.\n",
            "  warn('Estimation of VARMA(p,q) models is not generically robust,'\n",
            "/Users/amaankazi/miniconda3/envs/mlsp/lib/python3.11/site-packages/statsmodels/tsa/statespace/varmax.py:161: EstimationWarning: Estimation of VARMA(p,q) models is not generically robust, due especially to identification issues.\n",
            "  warn('Estimation of VARMA(p,q) models is not generically robust,'\n",
            "/Users/amaankazi/miniconda3/envs/mlsp/lib/python3.11/site-packages/statsmodels/tsa/statespace/varmax.py:161: EstimationWarning: Estimation of VARMA(p,q) models is not generically robust, due especially to identification issues.\n",
            "  warn('Estimation of VARMA(p,q) models is not generically robust,'\n",
            "/Users/amaankazi/miniconda3/envs/mlsp/lib/python3.11/site-packages/statsmodels/base/model.py:607: ConvergenceWarning: Maximum Likelihood optimization failed to converge. Check mle_retvals\n",
            "  warnings.warn(\"Maximum Likelihood optimization failed to \"\n",
            "/Users/amaankazi/miniconda3/envs/mlsp/lib/python3.11/site-packages/statsmodels/tsa/statespace/varmax.py:161: EstimationWarning: Estimation of VARMA(p,q) models is not generically robust, due especially to identification issues.\n",
            "  warn('Estimation of VARMA(p,q) models is not generically robust,'\n",
            "/Users/amaankazi/miniconda3/envs/mlsp/lib/python3.11/site-packages/statsmodels/base/model.py:607: ConvergenceWarning: Maximum Likelihood optimization failed to converge. Check mle_retvals\n",
            "  warnings.warn(\"Maximum Likelihood optimization failed to \"\n",
            "/Users/amaankazi/miniconda3/envs/mlsp/lib/python3.11/site-packages/statsmodels/tsa/statespace/varmax.py:161: EstimationWarning: Estimation of VARMA(p,q) models is not generically robust, due especially to identification issues.\n",
            "  warn('Estimation of VARMA(p,q) models is not generically robust,'\n",
            "/Users/amaankazi/miniconda3/envs/mlsp/lib/python3.11/site-packages/statsmodels/tsa/statespace/varmax.py:161: EstimationWarning: Estimation of VARMA(p,q) models is not generically robust, due especially to identification issues.\n",
            "  warn('Estimation of VARMA(p,q) models is not generically robust,'\n",
            "/Users/amaankazi/miniconda3/envs/mlsp/lib/python3.11/site-packages/statsmodels/tsa/statespace/varmax.py:161: EstimationWarning: Estimation of VARMA(p,q) models is not generically robust, due especially to identification issues.\n",
            "  warn('Estimation of VARMA(p,q) models is not generically robust,'\n",
            "/Users/amaankazi/miniconda3/envs/mlsp/lib/python3.11/site-packages/statsmodels/tsa/statespace/varmax.py:161: EstimationWarning: Estimation of VARMA(p,q) models is not generically robust, due especially to identification issues.\n",
            "  warn('Estimation of VARMA(p,q) models is not generically robust,'\n",
            "/Users/amaankazi/miniconda3/envs/mlsp/lib/python3.11/site-packages/statsmodels/base/model.py:607: ConvergenceWarning: Maximum Likelihood optimization failed to converge. Check mle_retvals\n",
            "  warnings.warn(\"Maximum Likelihood optimization failed to \"\n",
            "/Users/amaankazi/miniconda3/envs/mlsp/lib/python3.11/site-packages/statsmodels/tsa/statespace/varmax.py:161: EstimationWarning: Estimation of VARMA(p,q) models is not generically robust, due especially to identification issues.\n",
            "  warn('Estimation of VARMA(p,q) models is not generically robust,'\n",
            "/Users/amaankazi/miniconda3/envs/mlsp/lib/python3.11/site-packages/statsmodels/base/model.py:607: ConvergenceWarning: Maximum Likelihood optimization failed to converge. Check mle_retvals\n",
            "  warnings.warn(\"Maximum Likelihood optimization failed to \"\n",
            "/Users/amaankazi/miniconda3/envs/mlsp/lib/python3.11/site-packages/statsmodels/tsa/statespace/varmax.py:161: EstimationWarning: Estimation of VARMA(p,q) models is not generically robust, due especially to identification issues.\n",
            "  warn('Estimation of VARMA(p,q) models is not generically robust,'\n",
            "/Users/amaankazi/miniconda3/envs/mlsp/lib/python3.11/site-packages/statsmodels/tsa/statespace/varmax.py:161: EstimationWarning: Estimation of VARMA(p,q) models is not generically robust, due especially to identification issues.\n",
            "  warn('Estimation of VARMA(p,q) models is not generically robust,'\n",
            "/Users/amaankazi/miniconda3/envs/mlsp/lib/python3.11/site-packages/statsmodels/base/model.py:607: ConvergenceWarning: Maximum Likelihood optimization failed to converge. Check mle_retvals\n",
            "  warnings.warn(\"Maximum Likelihood optimization failed to \"\n",
            "/Users/amaankazi/miniconda3/envs/mlsp/lib/python3.11/site-packages/statsmodels/tsa/statespace/varmax.py:161: EstimationWarning: Estimation of VARMA(p,q) models is not generically robust, due especially to identification issues.\n",
            "  warn('Estimation of VARMA(p,q) models is not generically robust,'\n",
            "/Users/amaankazi/miniconda3/envs/mlsp/lib/python3.11/site-packages/statsmodels/tsa/statespace/varmax.py:161: EstimationWarning: Estimation of VARMA(p,q) models is not generically robust, due especially to identification issues.\n",
            "  warn('Estimation of VARMA(p,q) models is not generically robust,'\n",
            "/Users/amaankazi/miniconda3/envs/mlsp/lib/python3.11/site-packages/statsmodels/tsa/statespace/varmax.py:161: EstimationWarning: Estimation of VARMA(p,q) models is not generically robust, due especially to identification issues.\n",
            "  warn('Estimation of VARMA(p,q) models is not generically robust,'\n",
            "/Users/amaankazi/miniconda3/envs/mlsp/lib/python3.11/site-packages/statsmodels/tsa/statespace/varmax.py:161: EstimationWarning: Estimation of VARMA(p,q) models is not generically robust, due especially to identification issues.\n",
            "  warn('Estimation of VARMA(p,q) models is not generically robust,'\n",
            "/Users/amaankazi/miniconda3/envs/mlsp/lib/python3.11/site-packages/statsmodels/base/model.py:607: ConvergenceWarning: Maximum Likelihood optimization failed to converge. Check mle_retvals\n",
            "  warnings.warn(\"Maximum Likelihood optimization failed to \"\n",
            "/Users/amaankazi/miniconda3/envs/mlsp/lib/python3.11/site-packages/statsmodels/tsa/statespace/varmax.py:161: EstimationWarning: Estimation of VARMA(p,q) models is not generically robust, due especially to identification issues.\n",
            "  warn('Estimation of VARMA(p,q) models is not generically robust,'\n",
            "/Users/amaankazi/miniconda3/envs/mlsp/lib/python3.11/site-packages/statsmodels/base/model.py:607: ConvergenceWarning: Maximum Likelihood optimization failed to converge. Check mle_retvals\n",
            "  warnings.warn(\"Maximum Likelihood optimization failed to \"\n"
          ]
        }
      ],
      "source": [
        "import pandas as pd\n",
        "import numpy as np\n",
        "import matplotlib.pyplot as plt\n",
        "from statsmodels.tsa.statespace.varmax import VARMAX\n",
        "from statsmodels.tsa.statespace.tools import diff\n",
        "\n",
        "data = usd_eur.copy()\n",
        "df = data.dropna()\n",
        "\n",
        "train_size = int(len(df) * 0.8)\n",
        "train, test = df[:train_size], df[train_size:]\n",
        "\n",
        "data = train[['Close','Gold_Price','S50','GSPC']]\n",
        "\n",
        "diff_data = diff(data, k_diff=1)\n",
        "\n",
        "p = np.arange(1,6)\n",
        "q = np.arange(1,6)\n",
        "models = []\n",
        "orders = []\n",
        "MSEs = []\n",
        "for i in p:\n",
        "    for j in q:\n",
        "        orders.append((i,j))\n",
        "        model = VARMAX(diff_data, order=(i,j), mle_regression = True, filter_concentrated = True)\n",
        "        model_fit = model.fit(disp=False)\n",
        "        pred = pd.DataFrame()\n",
        "        pred['prediction'] = data.iloc[-1]['Close'] + model_fit.forecast(5).reset_index(drop=True).Close\n",
        "        pred['observed'] = test.reset_index(drop=True).Close\n",
        "        models.append(model_fit)\n",
        "        MSEs.append(np.mean((pred['prediction'].values-pred['observed'].values)**2))"
      ]
    },
    {
      "cell_type": "code",
      "execution_count": 98,
      "metadata": {},
      "outputs": [
        {
          "data": {
            "text/plain": [
              "10"
            ]
          },
          "execution_count": 98,
          "metadata": {},
          "output_type": "execute_result"
        }
      ],
      "source": [
        "np.argmin(MSEs)"
      ]
    },
    {
      "cell_type": "code",
      "execution_count": 101,
      "metadata": {},
      "outputs": [
        {
          "data": {
            "text/plain": [
              "(3, 1)"
            ]
          },
          "execution_count": 101,
          "metadata": {},
          "output_type": "execute_result"
        }
      ],
      "source": [
        "orders[10]"
      ]
    },
    {
      "cell_type": "code",
      "execution_count": 34,
      "metadata": {},
      "outputs": [],
      "source": [
        "model_fit = pickle.load(open(\"./usd_eur_models/model_3_1_best.pkl\",\"rb\"))"
      ]
    },
    {
      "cell_type": "code",
      "execution_count": 104,
      "metadata": {},
      "outputs": [],
      "source": [
        "model_fit = models[10]"
      ]
    },
    {
      "cell_type": "code",
      "execution_count": 116,
      "metadata": {
        "colab": {
          "base_uri": "https://localhost:8080/",
          "height": 446
        },
        "id": "KmzR1xfXdFZS",
        "outputId": "0f47bf34-fd07-4ba5-e68b-b6d118e8b2dc"
      },
      "outputs": [
        {
          "data": {
            "text/plain": [
              "Text(0.5, 1.0, 'MSE = 1.5665483004254946e-05')"
            ]
          },
          "execution_count": 116,
          "metadata": {},
          "output_type": "execute_result"
        },
        {
          "data": {
            "image/png": "[encoded data removed]",
            "text/plain": [
              "<Figure size 2000x500 with 1 Axes>"
            ]
          },
          "metadata": {},
          "output_type": "display_data"
        }
      ],
      "source": [
        "# plot prediction vs observed\n",
        "pred = pd.DataFrame()\n",
        "pred['prediction'] = data.iloc[-1]['Close'] + model_fit.forecast(5).reset_index(drop=True).Close\n",
        "pred['observed'] = test.reset_index(drop=True).Close\n",
        "\n",
        "pred.plot(figsize=(20,5),title='prediction vs observed',color=['blue','black'],style=['--','-'])\n",
        "plt.title(f\"MSE = {np.mean((pred['prediction'].values-pred['observed'].values)**2)}\")"
      ]
    },
    {
      "cell_type": "code",
      "execution_count": 76,
      "metadata": {
        "colab": {
          "base_uri": "https://localhost:8080/"
        },
        "id": "WSCm4PWQt54s",
        "outputId": "52498872-47c6-4862-8dff-67e28c05074e"
      },
      "outputs": [
        {
          "name": "stdout",
          "output_type": "stream",
          "text": [
            "   prediction  observed\n",
            "0    0.927800   0.93300\n",
            "1    0.927950   0.93020\n",
            "2    0.938693   0.92995\n",
            "3    0.935744   0.93160\n",
            "4    0.936285   0.94010\n"
          ]
        }
      ],
      "source": [
        "print(pred)"
      ]
    },
    {
      "cell_type": "code",
      "execution_count": 106,
      "metadata": {
        "id": "GpffGEUZvolr"
      },
      "outputs": [],
      "source": [
        "import pickle\n",
        "pickle.dump(model_fit, open(\"./usd_eur_models/model_3_1_best.pkl\",\"wb\"))"
      ]
    }
  ],
  "metadata": {
    "colab": {
      "include_colab_link": true,
      "provenance": []
    },
    "kernelspec": {
      "display_name": "mlsp",
      "language": "python",
      "name": "python3"
    },
    "language_info": {
      "codemirror_mode": {
        "name": "ipython",
        "version": 3
      },
      "file_extension": ".py",
      "mimetype": "text/x-python",
      "name": "python",
      "nbconvert_exporter": "python",
      "pygments_lexer": "ipython3",
      "version": "3.11.5"
    }
  },
  "nbformat": 4,
  "nbformat_minor": 0
}
