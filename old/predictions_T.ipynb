{
 "cells": [
  {
   "cell_type": "code",
   "execution_count": 1,
   "metadata": {},
   "outputs": [],
   "source": [
    "import numpy as np"
   ]
  },
  {
   "cell_type": "code",
   "execution_count": 2,
   "metadata": {},
   "outputs": [
    {
     "data": {
      "text/plain": [
       "array([[0.93912062, 0.9660615 , 0.86743953, 1.11601475, 0.90607384,\n",
       "        0.82069368],\n",
       "       [0.94235837, 0.96548697, 0.86630084, 1.11801383, 0.90538757,\n",
       "        0.82051544],\n",
       "       [0.94285753, 0.96387099, 0.86744166, 1.1170917 , 0.9067338 ,\n",
       "        0.8197414 ],\n",
       "       [0.94094677, 0.96319276, 0.8662338 , 1.11795156, 0.90756292,\n",
       "        0.8168754 ],\n",
       "       [0.94013729, 0.96266483, 0.86544406, 1.12061482, 0.90647536,\n",
       "        0.81352489]])"
      ]
     },
     "execution_count": 2,
     "metadata": {},
     "output_type": "execute_result"
    }
   ],
   "source": [
    "pred_filename = 'predictions_T_svr.csv'\n",
    "m = np.genfromtxt(pred_filename, delimiter=',')\n"
   ]
  },
  {
   "cell_type": "code",
   "execution_count": 4,
   "metadata": {},
   "outputs": [],
   "source": [
    "outfilename = 'predictions_svr.csv'\n",
    "np.savetxt(outfilename, m.T, delimiter=\",\")"
   ]
  },
  {
   "cell_type": "code",
   "execution_count": null,
   "metadata": {},
   "outputs": [],
   "source": []
  }
 ],
 "metadata": {
  "kernelspec": {
   "display_name": "Python 3",
   "language": "python",
   "name": "python3"
  },
  "language_info": {
   "codemirror_mode": {
    "name": "ipython",
    "version": 3
   },
   "file_extension": ".py",
   "mimetype": "text/x-python",
   "name": "python",
   "nbconvert_exporter": "python",
   "pygments_lexer": "ipython3",
   "version": "3.11.5"
  }
 },
 "nbformat": 4,
 "nbformat_minor": 2
}
