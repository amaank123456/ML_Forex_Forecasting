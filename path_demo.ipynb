{
  "nbformat": 4,
  "nbformat_minor": 0,
  "metadata": {
    "colab": {
      "provenance": [],
      "authorship_tag": "ABX9TyOdL7jysUWHYsj2arRr9LhK",
      "include_colab_link": true
    },
    "kernelspec": {
      "name": "python3",
      "display_name": "Python 3"
    },
    "language_info": {
      "name": "python"
    }
  },
  "cells": [
    {
      "cell_type": "markdown",
      "metadata": {
        "id": "view-in-github",
        "colab_type": "text"
      },
      "source": [
        "<a href=\"https://colab.research.google.com/github/jdannem6/ML_Forex_Forecasting/blob/main/path_demo.ipynb\" target=\"_parent\"><img src=\"https://colab.research.google.com/assets/colab-badge.svg\" alt=\"Open In Colab\"/></a>"
      ]
    },
    {
      "cell_type": "code",
      "source": [
        "import numpy as np\n",
        "\n",
        "# Conversion rates matrix (5 days x 6 currencies)\n",
        "# format important\n",
        "conversion_rates = np.array([\n",
        "    [1.03, 0.9, 1.08, 0.75, 0.82, 1.23],  # DAY 1: USD-EUR, EUR-CHF, EUR-GBP, GBP_CHF, USD-CHF, USD-GBP\n",
        "    [1.04, 0.93, 1.03, 0.65, 0.82, 1.12],  # DAY 2: USD-EUR, EUR-CHF, EUR-GBP, GBP_CHF, USD-CHF, USD-GBP\n",
        "    [1.07, 0.95, 1.04, 0.55, 0.80, 1.01],  # DAY 3: USD-EUR, EUR-CHF, EUR-GBP, GBP_CHF, USD-CHF, USD-GBP\n",
        "    [1.05, 0.89, 1.06, 0.45, 0.65, 1.004],  # DAY 4: USD-EUR, EUR-CHF, EUR-GBP, GBP_CHF, USD-CHF, USD-GBP\n",
        "    [1.02, 0.93, 1.03, 0.33, 0.32, 1.003]  # DAY 5: USD-EUR, EUR-CHF, EUR-GBP, GBP_CHF, USD-CHF, USD-GBP\n",
        "])\n"
      ],
      "metadata": {
        "id": "njaiSGEUgLYn"
      },
      "execution_count": null,
      "outputs": []
    },
    {
      "cell_type": "code",
      "execution_count": null,
      "metadata": {
        "id": "gduSyin-K1dM"
      },
      "outputs": [],
      "source": [
        "def viterbi_strategy(conversion_rates):\n",
        "\n",
        "    dp = []\n",
        "    path = []\n",
        "\n",
        "    curr = ['USD', 'EUR', 'CHF', 'GBP']\n",
        "    prev_day = np.array([1, 0, 0, 0])\n",
        "\n",
        "    for i in range(5):\n",
        "\n",
        "        USD, EUR, CHF, GBP = prev_day\n",
        "        USD_EUR, EUR_CHF, EUR_GBP, GBP_CHF, USD_CHF, USD_GBP = conversion_rates[i, :]\n",
        "        EUR_USD, CHF_EUR, GBP_EUR, CHF_GBP, CHF_USD, GBP_USD = 1/conversion_rates[i, :]\n",
        "\n",
        "        if i<=3:\n",
        "            dp = np.array([max(USD*1, EUR*EUR_USD, CHF*CHF_USD, GBP*GBP_USD), max(USD*USD_EUR, EUR*1, CHF*CHF_EUR, GBP*GBP_EUR), max(USD*USD_CHF, EUR*EUR_CHF, CHF*1, GBP*GBP_CHF), max(USD*USD_GBP, EUR*EUR_GBP, CHF*CHF_GBP, GBP*1)])\n",
        "            path.append(np.array([curr[np.argmax([USD*1, EUR*EUR_USD, CHF*CHF_USD, GBP*GBP_USD])], curr[np.argmax([USD*USD_EUR, EUR*1, CHF*CHF_EUR, GBP*GBP_EUR])], curr[np.argmax([USD*USD_CHF, EUR*EUR_CHF, CHF*1, GBP*GBP_CHF])], curr[np.argmax([USD*USD_GBP, EUR*EUR_GBP, CHF*CHF_GBP, GBP*1])]]))\n",
        "            prev_day = dp\n",
        "\n",
        "        elif i==4:\n",
        "            dp = np.array([USD*1, EUR*EUR_USD, CHF*CHF_USD, GBP*GBP_USD])\n",
        "            path.append(curr)\n",
        "\n",
        "    final_path = ['USD']\n",
        "    index = curr.index(path[-1][np.argmax(dp)])\n",
        "    print(1000*np.max(dp))\n",
        "\n",
        "    for i in range(4, -1, -1):\n",
        "        prev_currency = path[i][index]\n",
        "        final_path.append(prev_currency)\n",
        "        index = curr.index(prev_currency)\n",
        "\n",
        "    final_path.reverse()\n",
        "    final_path = [final_path[i] + '-' + final_path[i+1] for i in range(5)]\n",
        "\n",
        "    return final_path\n",
        "\n"
      ]
    },
    {
      "cell_type": "code",
      "source": [
        "viterbi_strategy(conversion_rates)"
      ],
      "metadata": {
        "colab": {
          "base_uri": "https://localhost:8080/"
        },
        "id": "rtGvCFneHI8h",
        "outputId": "d4eb7d00-f49d-4a88-822a-b0516c12d239"
      },
      "execution_count": null,
      "outputs": [
        {
          "output_type": "stream",
          "name": "stdout",
          "text": [
            "3545.2063106796113\n"
          ]
        },
        {
          "output_type": "execute_result",
          "data": {
            "text/plain": [
              "['USD-GBP', 'GBP-EUR', 'EUR-CHF', 'CHF-CHF', 'CHF-USD']"
            ]
          },
          "metadata": {},
          "execution_count": 48
        }
      ]
    },
    {
      "cell_type": "code",
      "source": [
        "def viterbi_distributed_strategy(conversion_rates, currencies=['A', 'B'], amount=250):\n",
        "\n",
        "    dp = []\n",
        "    path = []\n",
        "\n",
        "    curr = currencies\n",
        "    prev_day = np.array([1, 0])\n",
        "\n",
        "    for i in range(5):\n",
        "        A, B = prev_day\n",
        "        A_B = conversion_rates[i]\n",
        "        B_A = 1/conversion_rates[i]\n",
        "\n",
        "        if i<=3:\n",
        "            dp = np.array([max(A*1, B*B_A), max(A*A_B, B*1)])\n",
        "            path.append(np.array([curr[np.argmax([A*1, B*B_A])], curr[np.argmax([A*A_B, B*1])]]))\n",
        "            prev_day = dp\n",
        "\n",
        "        elif i==4:\n",
        "            dp = np.array([A*1, B*B_A])\n",
        "            path.append(curr)\n",
        "\n",
        "    final_path = ['A']\n",
        "    index = curr.index(path[-1][np.argmax(dp)])\n",
        "    final_amount = amount*np.max(dp)\n",
        "\n",
        "    for i in range(4, -1, -1):\n",
        "        prev_currency = path[i][index]\n",
        "        final_path.append(prev_currency)\n",
        "        index = curr.index(prev_currency)\n",
        "\n",
        "    final_path.reverse()\n",
        "    final_path = [final_path[i] + '-' + final_path[i+1] for i in range(5)]\n",
        "\n",
        "    return final_path, final_amount\n"
      ],
      "metadata": {
        "id": "Cl6K4rRPeS2D"
      },
      "execution_count": null,
      "outputs": []
    },
    {
      "cell_type": "code",
      "source": [
        "final_path_USD_EUR, final_amount_USD_EUR = viterbi_distributed_strategy(conversion_rates[:, 0], currencies=['USD', 'EUR'], amount=333.333)\n",
        "final_path_USD_CHF, final_amount_USD_CHF = viterbi_distributed_strategy(conversion_rates[:, 4], currencies=['USD', 'CHF'], amount=333.333)\n",
        "final_path_USD_GBP, final_amount_USD_GBP = viterbi_distributed_strategy(conversion_rates[:, 5], currencies=['USD', 'GBP'], amount=333.333)\n",
        "\n",
        "print('final_path_USD_EUR', final_path_USD_EUR, final_amount_USD_EUR)\n",
        "print('final_path_USD_CHF', final_path_USD_CHF, final_amount_USD_CHF)\n",
        "print('final_path_USD_GBP', final_path_USD_GBP, final_amount_USD_GBP)\n",
        "print()\n",
        "\n",
        "print('final_amount', final_amount_USD_EUR+final_amount_USD_CHF+final_amount_USD_GBP)"
      ],
      "metadata": {
        "colab": {
          "base_uri": "https://localhost:8080/"
        },
        "id": "TpeJ5EuYg6PN",
        "outputId": "0da03348-2f3f-4105-88bb-147a6fd83d7f"
      },
      "execution_count": null,
      "outputs": [
        {
          "output_type": "stream",
          "name": "stdout",
          "text": [
            "final_path_USD_EUR ['USD-USD', 'USD-USD', 'USD-EUR', 'EUR-EUR', 'EUR-A'] 349.67285294117653\n",
            "final_path_USD_CHF ['USD-USD', 'USD-CHF', 'CHF-CHF', 'CHF-CHF', 'CHF-A'] 854.1658125\n",
            "final_path_USD_GBP ['USD-GBP', 'GBP-GBP', 'GBP-GBP', 'GBP-GBP', 'GBP-A'] 408.7732701894318\n",
            "\n",
            "final_amount 1612.6119356306083\n"
          ]
        }
      ]
    },
    {
      "cell_type": "code",
      "source": [
        "from numpy import array\n",
        "\n",
        "\n",
        "available_paths = {'USD': ['USD_USD', 'USD_EUR', 'USD_GBP', 'USD_CHF'], 'EUR': ['EUR_USD', 'EUR_EUR', 'EUR_GBP', 'EUR_CHF'], 'CHF': ['CHF_USD', 'CHF_EUR', 'CHF_GBP', 'CHF_CHF'], 'GBP':['GBP_USD', 'GBP_EUR', 'GBP_GBP', 'GBP_CHF']}\n",
        "\n",
        "def beam_search(distances, beta=5):\n",
        "\n",
        "    paths_so_far = [[['USD_USD'], 1]]\n",
        "\n",
        "    for idx, tier in enumerate(distances[:-1]):\n",
        "\n",
        "        USD_EUR, EUR_CHF, EUR_GBP, GBP_CHF, USD_CHF, USD_GBP = tier\n",
        "        EUR_USD, CHF_EUR, GBP_EUR, CHF_GBP, CHF_USD, GBP_USD = 1/tier\n",
        "        d = {'USD_EUR':USD_EUR, 'EUR_CHF':EUR_CHF, 'EUR_GBP':EUR_GBP, 'GBP_CHF':GBP_CHF, 'USD_CHF':USD_CHF, 'USD_GBP':USD_GBP, 'EUR_USD':EUR_USD, 'CHF_EUR':CHF_EUR, 'GBP_EUR':GBP_EUR, 'CHF_GBP':CHF_GBP, 'CHF_USD':CHF_USD, 'GBP_USD':GBP_USD, 'USD_USD':1, 'EUR_EUR':1, 'GBP_GBP':1, 'CHF_CHF':1}\n",
        "\n",
        "        paths_at_tier = list()\n",
        "\n",
        "        for i in range(len(paths_so_far)):\n",
        "            path, distance = paths_so_far[i]\n",
        "\n",
        "            for j in range(4):\n",
        "                path_extended = [path + [available_paths[path[-1][4:]][j]], distance*d[available_paths[path[-1][4:]][j]]]\n",
        "                paths_at_tier.append(path_extended)\n",
        "\n",
        "        # print(paths_at_tier[0][-1][4:])\n",
        "        # print(available_paths[paths_at_tier[0][-1][4:]][0])\n",
        "        print(paths_at_tier)\n",
        "        paths_ordered = sorted(paths_at_tier, reverse=True, key=lambda element: element[1]*d[available_paths[element[0][-1][4:]][0]])\n",
        "\n",
        "        paths_so_far = paths_ordered[:beta]\n",
        "        print(idx, paths_so_far)\n",
        "\n",
        "    paths_final = [(path.append(available_paths[path[-1][4:]][0]), val*d[available_paths[path[-1][4:]][0]]) for path, val in paths_so_far]\n",
        "\n",
        "    return paths_so_far\n",
        "\n",
        "\n",
        "#Distance matrix\n",
        "dists = np.array([\n",
        "    [1.03, 0.9, 1.08, 0.75, 0.82, 1.23],  # DAY 1: USD-EUR, EUR-CHF, EUR-GBP, GBP_CHF, USD-CHF, USD-GBP\n",
        "    [1.04, 0.93, 1.03, 0.65, 0.82, 1.12],  # DAY 2: USD-EUR, EUR-CHF, EUR-GBP, GBP_CHF, USD-CHF, USD-GBP\n",
        "    [1.07, 0.95, 1.04, 0.55, 0.80, 1.01],  # DAY 3: USD-EUR, EUR-CHF, EUR-GBP, GBP_CHF, USD-CHF, USD-GBP\n",
        "    [1.05, 0.89, 1.06, 0.45, 0.65, 1.004],  # DAY 4: USD-EUR, EUR-CHF, EUR-GBP, GBP_CHF, USD-CHF, USD-GBP\n",
        "    [1.02, 0.93, 1.03, 0.33, 0.32, 1.003]  # DAY 5: USD-EUR, EUR-CHF, EUR-GBP, GBP_CHF, USD-CHF, USD-GBP\n",
        "])\n",
        "\n",
        "# Calculating the best paths\n",
        "best_paths = beam_search(dists, 5)\n",
        "print('\\nThe best paths:')\n",
        "for beta_path in best_paths:\n",
        "    print(beta_path)\n",
        ""
      ],
      "metadata": {
        "colab": {
          "base_uri": "https://localhost:8080/"
        },
        "id": "CJwiMa1sAxFW",
        "outputId": "db9e599f-4a77-4b26-a381-8a6ee95d70bc"
      },
      "execution_count": null,
      "outputs": [
        {
          "output_type": "stream",
          "name": "stdout",
          "text": [
            "[[['USD_USD', 'USD_USD'], 1], [['USD_USD', 'USD_EUR'], 1.03], [['USD_USD', 'USD_GBP'], 1.23], [['USD_USD', 'USD_CHF'], 0.82]]\n",
            "0 [[['USD_USD', 'USD_USD'], 1], [['USD_USD', 'USD_EUR'], 1.03], [['USD_USD', 'USD_GBP'], 1.23], [['USD_USD', 'USD_CHF'], 0.82]]\n",
            "[[['USD_USD', 'USD_USD', 'USD_USD'], 1], [['USD_USD', 'USD_USD', 'USD_EUR'], 1.04], [['USD_USD', 'USD_USD', 'USD_GBP'], 1.12], [['USD_USD', 'USD_USD', 'USD_CHF'], 0.82], [['USD_USD', 'USD_EUR', 'EUR_USD'], 0.9903846153846153], [['USD_USD', 'USD_EUR', 'EUR_EUR'], 1.03], [['USD_USD', 'USD_EUR', 'EUR_GBP'], 1.0609], [['USD_USD', 'USD_EUR', 'EUR_CHF'], 0.9579000000000001], [['USD_USD', 'USD_GBP', 'GBP_USD'], 1.0982142857142856], [['USD_USD', 'USD_GBP', 'GBP_EUR'], 1.1941747572815533], [['USD_USD', 'USD_GBP', 'GBP_GBP'], 1.23], [['USD_USD', 'USD_GBP', 'GBP_CHF'], 0.7995], [['USD_USD', 'USD_CHF', 'CHF_USD'], 0.9999999999999999], [['USD_USD', 'USD_CHF', 'CHF_EUR'], 0.8817204301075268], [['USD_USD', 'USD_CHF', 'CHF_GBP'], 1.2615384615384613], [['USD_USD', 'USD_CHF', 'CHF_CHF'], 0.82]]\n",
            "1 [[['USD_USD', 'USD_EUR', 'EUR_CHF'], 0.9579000000000001], [['USD_USD', 'USD_GBP', 'GBP_EUR'], 1.1941747572815533], [['USD_USD', 'USD_CHF', 'CHF_GBP'], 1.2615384615384613], [['USD_USD', 'USD_GBP', 'GBP_USD'], 1.0982142857142856], [['USD_USD', 'USD_GBP', 'GBP_GBP'], 1.23]]\n",
            "[[['USD_USD', 'USD_EUR', 'EUR_CHF', 'CHF_USD'], 1.197375], [['USD_USD', 'USD_EUR', 'EUR_CHF', 'CHF_EUR'], 1.0083157894736843], [['USD_USD', 'USD_EUR', 'EUR_CHF', 'CHF_GBP'], 1.7416363636363636], [['USD_USD', 'USD_EUR', 'EUR_CHF', 'CHF_CHF'], 0.9579000000000001], [['USD_USD', 'USD_GBP', 'GBP_EUR', 'EUR_USD'], 1.116051175029489], [['USD_USD', 'USD_GBP', 'GBP_EUR', 'EUR_EUR'], 1.1941747572815533], [['USD_USD', 'USD_GBP', 'GBP_EUR', 'EUR_GBP'], 1.2419417475728154], [['USD_USD', 'USD_GBP', 'GBP_EUR', 'EUR_CHF'], 1.1344660194174756], [['USD_USD', 'USD_CHF', 'CHF_GBP', 'GBP_USD'], 1.2490479817212488], [['USD_USD', 'USD_CHF', 'CHF_GBP', 'GBP_EUR'], 1.2130177514792895], [['USD_USD', 'USD_CHF', 'CHF_GBP', 'GBP_GBP'], 1.2615384615384613], [['USD_USD', 'USD_CHF', 'CHF_GBP', 'GBP_CHF'], 0.6938461538461538], [['USD_USD', 'USD_GBP', 'GBP_USD', 'USD_USD'], 1.0982142857142856], [['USD_USD', 'USD_GBP', 'GBP_USD', 'USD_EUR'], 1.1750892857142856], [['USD_USD', 'USD_GBP', 'GBP_USD', 'USD_GBP'], 1.1091964285714284], [['USD_USD', 'USD_GBP', 'GBP_USD', 'USD_CHF'], 0.8785714285714286], [['USD_USD', 'USD_GBP', 'GBP_GBP', 'GBP_USD'], 1.2178217821782178], [['USD_USD', 'USD_GBP', 'GBP_GBP', 'GBP_EUR'], 1.1826923076923075], [['USD_USD', 'USD_GBP', 'GBP_GBP', 'GBP_GBP'], 1.23], [['USD_USD', 'USD_GBP', 'GBP_GBP', 'GBP_CHF'], 0.6765]]\n",
            "2 [[['USD_USD', 'USD_EUR', 'EUR_CHF', 'CHF_GBP'], 1.7416363636363636], [['USD_USD', 'USD_GBP', 'GBP_EUR', 'EUR_CHF'], 1.1344660194174756], [['USD_USD', 'USD_CHF', 'CHF_GBP', 'GBP_USD'], 1.2490479817212488], [['USD_USD', 'USD_CHF', 'CHF_GBP', 'GBP_GBP'], 1.2615384615384613], [['USD_USD', 'USD_GBP', 'GBP_EUR', 'EUR_GBP'], 1.2419417475728154]]\n",
            "[[['USD_USD', 'USD_EUR', 'EUR_CHF', 'CHF_GBP', 'GBP_USD'], 1.7346975733429917], [['USD_USD', 'USD_EUR', 'EUR_CHF', 'CHF_GBP', 'GBP_EUR'], 1.6430531732418523], [['USD_USD', 'USD_EUR', 'EUR_CHF', 'CHF_GBP', 'GBP_GBP'], 1.7416363636363636], [['USD_USD', 'USD_EUR', 'EUR_CHF', 'CHF_GBP', 'GBP_CHF'], 0.7837363636363637], [['USD_USD', 'USD_GBP', 'GBP_EUR', 'EUR_CHF', 'CHF_USD'], 1.745332337565347], [['USD_USD', 'USD_GBP', 'GBP_EUR', 'EUR_CHF', 'CHF_EUR'], 1.2746809206937928], [['USD_USD', 'USD_GBP', 'GBP_EUR', 'EUR_CHF', 'CHF_GBP'], 2.5210355987055015], [['USD_USD', 'USD_GBP', 'GBP_EUR', 'EUR_CHF', 'CHF_CHF'], 1.1344660194174756], [['USD_USD', 'USD_CHF', 'CHF_GBP', 'GBP_USD', 'USD_USD'], 1.2490479817212488], [['USD_USD', 'USD_CHF', 'CHF_GBP', 'GBP_USD', 'USD_EUR'], 1.3115003808073114], [['USD_USD', 'USD_CHF', 'CHF_GBP', 'GBP_USD', 'USD_GBP'], 1.2540441736481338], [['USD_USD', 'USD_CHF', 'CHF_GBP', 'GBP_USD', 'USD_CHF'], 0.8118811881188117], [['USD_USD', 'USD_CHF', 'CHF_GBP', 'GBP_GBP', 'GBP_USD'], 1.2565124118908977], [['USD_USD', 'USD_CHF', 'CHF_GBP', 'GBP_GBP', 'GBP_EUR'], 1.190130624092888], [['USD_USD', 'USD_CHF', 'CHF_GBP', 'GBP_GBP', 'GBP_GBP'], 1.2615384615384613], [['USD_USD', 'USD_CHF', 'CHF_GBP', 'GBP_GBP', 'GBP_CHF'], 0.5676923076923076], [['USD_USD', 'USD_GBP', 'GBP_EUR', 'EUR_GBP', 'GBP_USD'], 1.236993772482884], [['USD_USD', 'USD_GBP', 'GBP_EUR', 'EUR_GBP', 'GBP_EUR'], 1.1716431580875615], [['USD_USD', 'USD_GBP', 'GBP_EUR', 'EUR_GBP', 'GBP_GBP'], 1.2419417475728154], [['USD_USD', 'USD_GBP', 'GBP_EUR', 'EUR_GBP', 'GBP_CHF'], 0.558873786407767]]\n",
            "3 [[['USD_USD', 'USD_GBP', 'GBP_EUR', 'EUR_CHF', 'CHF_GBP'], 2.5210355987055015], [['USD_USD', 'USD_GBP', 'GBP_EUR', 'EUR_CHF', 'CHF_USD'], 1.745332337565347], [['USD_USD', 'USD_GBP', 'GBP_EUR', 'EUR_CHF', 'CHF_CHF'], 1.1344660194174756], [['USD_USD', 'USD_EUR', 'EUR_CHF', 'CHF_GBP', 'GBP_USD'], 1.7346975733429917], [['USD_USD', 'USD_EUR', 'EUR_CHF', 'CHF_GBP', 'GBP_GBP'], 1.7416363636363636]]\n",
            "\n",
            "The best paths:\n",
            "[['USD_USD', 'USD_GBP', 'GBP_EUR', 'EUR_CHF', 'CHF_GBP', 'GBP_USD'], 2.5210355987055015]\n",
            "[['USD_USD', 'USD_GBP', 'GBP_EUR', 'EUR_CHF', 'CHF_USD', 'USD_USD'], 1.745332337565347]\n",
            "[['USD_USD', 'USD_GBP', 'GBP_EUR', 'EUR_CHF', 'CHF_CHF', 'CHF_USD'], 1.1344660194174756]\n",
            "[['USD_USD', 'USD_EUR', 'EUR_CHF', 'CHF_GBP', 'GBP_USD', 'USD_USD'], 1.7346975733429917]\n",
            "[['USD_USD', 'USD_EUR', 'EUR_CHF', 'CHF_GBP', 'GBP_GBP', 'GBP_USD'], 1.7416363636363636]\n"
          ]
        }
      ]
    }
  ]
}