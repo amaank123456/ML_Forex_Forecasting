{
  "nbformat": 4,
  "nbformat_minor": 0,
  "metadata": {
    "colab": {
      "provenance": [],
      "authorship_tag": "ABX9TyNIfOvVcVTOofkjDXOgrmHj",
      "include_colab_link": true
    },
    "kernelspec": {
      "name": "python3",
      "display_name": "Python 3"
    },
    "language_info": {
      "name": "python"
    }
  },
  "cells": [
    {
      "cell_type": "markdown",
      "metadata": {
        "id": "view-in-github",
        "colab_type": "text"
      },
      "source": [
        "<a href=\"https://colab.research.google.com/github/jdannem6/ML_Forex_Forecasting/blob/main/path_demo.ipynb\" target=\"_parent\"><img src=\"https://colab.research.google.com/assets/colab-badge.svg\" alt=\"Open In Colab\"/></a>"
      ]
    },
    {
      "cell_type": "code",
      "source": [
        "import numpy as np\n",
        "\n",
        "# Conversion rates matrix (5 days x 6 currencies)\n",
        "# format important\n",
        "conversion_rates = np.array([\n",
        "    [1.03, 0.9, 1.08, 0.75, 0.82, 1.23],  # DAY 1: USD-EUR, EUR-CHF, EUR-GBP, CHF-GBP, USD-CHF, USD-GBP\n",
        "    [1.04, 0.93, 1.03, 0.65, 0.82, 1.12],  # DAY 2: USD-EUR, EUR-CHF, EUR-GBP, CHF-GBP, USD-CHF, USD-GBP\n",
        "    [1.07, 0.95, 1.04, 0.55, 0.80, 1.01],  # DAY 3: USD-EUR, EUR-CHF, EUR-GBP, CHF-GBP, USD-CHF, USD-GBP\n",
        "    [1.05, 0.89, 1.06, 0.45, 0.65, 1.004],  # DAY 4: USD-EUR, EUR-CHF, EUR-GBP, CHF-GBP, USD-CHF, USD-GBP\n",
        "    [1.02, 0.93, 1.03, 0.33, 0.32, 1.003]  # DAY 5: USD-EUR, EUR-CHF, EUR-GBP, CHF-GBP, USD-CHF, USD-GBP\n",
        "])\n"
      ],
      "metadata": {
        "id": "njaiSGEUgLYn"
      },
      "execution_count": null,
      "outputs": []
    },
    {
      "cell_type": "code",
      "execution_count": 23,
      "metadata": {
        "id": "gduSyin-K1dM"
      },
      "outputs": [],
      "source": [
        "def find_maximum_profit_path(conversion_rates):\n",
        "\n",
        "    dp = []\n",
        "    path = []\n",
        "\n",
        "    curr = ['USD', 'EUR', 'CHF', 'GBP']\n",
        "    prev_day = np.array([1, 0, 0, 0])\n",
        "\n",
        "    for i in range(5):\n",
        "\n",
        "        USD, EUR, CHF, GBP = prev_day\n",
        "        USD_EUR, EUR_CHF, EUR_GBP, CHF_GBP, USD_CHF, USD_GBP = conversion_rates[i, :]\n",
        "        EUR_USD, CHF_EUR, GBP_EUR, GBP_CHF, CHF_USD, GBP_USD = 1/conversion_rates[i, :]\n",
        "\n",
        "        if i<=3:\n",
        "            dp = np.array([max(USD*1, EUR*EUR_USD, CHF*CHF_USD, GBP*GBP_USD), max(USD*USD_EUR, EUR*1, CHF*CHF_EUR, GBP*GBP_EUR), max(USD*USD_CHF, EUR*EUR_CHF, CHF*1, GBP*GBP_CHF), max(USD*USD_GBP, EUR*EUR_GBP, CHF*CHF_GBP, GBP*1)])\n",
        "            path.append(np.array([curr[np.argmax([USD*1, EUR*EUR_USD, CHF*CHF_USD, GBP*GBP_USD])], curr[np.argmax([USD*USD_EUR, EUR*1, CHF*CHF_EUR, GBP*GBP_EUR])], curr[np.argmax([USD*USD_CHF, EUR*EUR_CHF, CHF*1, GBP*GBP_CHF])], curr[np.argmax([USD*USD_GBP, EUR*EUR_GBP, CHF*CHF_GBP, GBP*1])]]))\n",
        "            prev_day = dp\n",
        "            # print('day: ', i+1)\n",
        "            # print(dp)\n",
        "            # print(path[i])\n",
        "            # print()\n",
        "        elif i==4:\n",
        "            dp = np.array([USD*1, EUR*EUR_USD, CHF*CHF_USD, GBP*GBP_USD])\n",
        "            path.append(curr)\n",
        "            # print('-----------------')\n",
        "            # print('day: ', i+1)\n",
        "            # print(dp)\n",
        "            # print(path[i])\n",
        "            # print()\n",
        "\n",
        "\n",
        "    final_path = ['USD']\n",
        "    index = curr.index(path[-1][np.argmax(dp)])\n",
        "    print(1000*np.max(dp))\n",
        "\n",
        "    for i in range(4, -1, -1):\n",
        "        prev_currency = path[i][index]\n",
        "        final_path.append(prev_currency)\n",
        "        index = curr.index(prev_currency)\n",
        "\n",
        "    final_path.reverse()\n",
        "    final_path = [final_path[i] + '-' + final_path[i+1] for i in range(5)]\n",
        "\n",
        "    return final_path\n",
        "\n"
      ]
    },
    {
      "cell_type": "code",
      "source": [
        "find_maximum_profit_path(conversion_rates)"
      ],
      "metadata": {
        "colab": {
          "base_uri": "https://localhost:8080/"
        },
        "id": "rtGvCFneHI8h",
        "outputId": "756d3555-9a59-49bd-de1c-7a1122ef20ea"
      },
      "execution_count": 24,
      "outputs": [
        {
          "output_type": "stream",
          "name": "stdout",
          "text": [
            "8624.595469255662\n"
          ]
        },
        {
          "output_type": "execute_result",
          "data": {
            "text/plain": [
              "['USD-GBP', 'GBP-EUR', 'EUR-GBP', 'GBP-CHF', 'CHF-USD']"
            ]
          },
          "metadata": {},
          "execution_count": 24
        }
      ]
    },
    {
      "cell_type": "code",
      "source": [
        "1.23*(1/1.03)*(1.04)*(1/0.45)*(1/0.32)"
      ],
      "metadata": {
        "colab": {
          "base_uri": "https://localhost:8080/"
        },
        "id": "DiQ5_oKlftUa",
        "outputId": "ffb3ca09-957d-4db6-a484-e029648a63d5"
      },
      "execution_count": 25,
      "outputs": [
        {
          "output_type": "execute_result",
          "data": {
            "text/plain": [
              "8.624595469255663"
            ]
          },
          "metadata": {},
          "execution_count": 25
        }
      ]
    }
  ]
}